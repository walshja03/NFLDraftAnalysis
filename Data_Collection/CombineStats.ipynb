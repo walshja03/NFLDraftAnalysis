{
 "cells": [
  {
   "cell_type": "code",
   "execution_count": null,
   "metadata": {},
   "outputs": [],
   "source": [
    "import pandas as pd\n",
    "import seaborn as sns\n",
    "import scipy.stats as st\n",
    "import matplotlib.pyplot as plt\n",
    "import statsmodels.api as sm"
   ]
  },
  {
   "cell_type": "code",
   "execution_count": null,
   "metadata": {},
   "outputs": [],
   "source": [
    "#Extract Combine data from pro-football reference for years 2009 to 2020\n",
    "years = ['2009','2010','2011','2012','2013','2014','2015','2016','2017','2018','2019','2020']\n",
    "dfs=[]\n",
    "for yr in years:\n",
    "    #Adjust URL based on years fed in\n",
    "    url = f\"https://www.pro-football-reference.com/play-index/nfl-combine-results.cgi?request=1&year_min={yr}&year_max={yr}&height_min=60&height_max=82&weight_min=120&weight_max=400&pos%5B%5D=WR&show=all&order_by=year_id\"\n",
    "    try:\n",
    "        #read table on page into a dataframe\n",
    "        df = pd.read_html(url)\n",
    "        #drop AV column\n",
    "        new_df = df[0].drop(columns=\"AV\")\n",
    "        \n",
    "        #save dataframe for potential reference later\n",
    "        dfs.append(new_df)\n",
    "        \n",
    "        #Output success message\n",
    "        print(f\"success: {yr}\")\n",
    "        \n",
    "        #Create first dataframe and then add subsequent dataframes\n",
    "        if len(dfs)==1:\n",
    "            comb_df = new_df\n",
    "        else:\n",
    "            comb_df = pd.concat([comb_df,new_df])\n",
    "                \n",
    "    except: \n",
    "        #Notification of years that couldn't be read in\n",
    "        print(yr)"
   ]
  },
  {
   "cell_type": "code",
   "execution_count": null,
   "metadata": {},
   "outputs": [],
   "source": [
    "#Split out draft info \n",
    "comb_df[[\"Team\",\"Round\",\"pickNum\",\"year\"]] = comb_df[\"Drafted (tm/rnd/yr)\"].str.split(\"/\",n=3,expand=True)\n",
    "\n",
    "#Extract just the number for pickNum and Round\n",
    "comb_df[\"pickNum\"] = comb_df[\"pickNum\"].str.extract('(\\d+)')\n",
    "comb_df[\"Round\"] = comb_df[\"Round\"].str.extract('(\\d+)')\n",
    "\n",
    "#Get rid of combine results of those not drafted\n",
    "comb_df[\"pickNum\"].fillna(\"Not drafted\",inplace = True)\n",
    "drafteddf = comb_df[comb_df[\"pickNum\"] != \"Not drafted\"]\n",
    "\n",
    "#Remove header columns\n",
    "drafteddf=drafteddf[drafteddf[\"Year\"] != \"Year\" ]\n",
    "\n",
    "\n",
    "#Remove columns that were split out and College stats link column\n",
    "combine= drafteddf.drop(columns = ['Drafted (tm/rnd/yr)','College'])\n",
    "\n",
    "\n",
    "#Convert Height in Feet and inches to inches\n",
    "combine[['hfeet','hinches']] = combine['Height'].str.split(\"-\",n=1,expand=True)\n",
    "combine[['hfeet','hinches']] = combine[['hfeet','hinches']].astype(int)\n",
    "combine['height(in)']=12*combine['hfeet']+combine['hinches']\n",
    "combine.drop(columns = ['Height','hfeet','hinches'], inplace = True)\n",
    "\n",
    "#Separate out players first and last name for joining later\n",
    "combine[[\"FirstNm\",\"Last\"]] = combine[\"Player\"].str.split(\" \",n=1,expand=True)\n",
    "combine['FirstNm']=combine['FirstNm'].str.upper()\n",
    "combine['Last']=combine['Last'].str.upper()\n",
    "\n",
    "#Get rid of , and . which may be inconsistent based on sample\n",
    "combine['Last']=combine['Last'].str.replace('.','')\n",
    "combine['Last']=combine['Last'].str.replace(',','')\n",
    "combine['FirstNm']=combine['FirstNm'].str.replace('.','')\n",
    "combine['FirstNm']=combine['FirstNm'].str.replace(',','')\n",
    "\n",
    "#Add preceeding , to common suffixes for parsing out\n",
    "combine['Last']=combine['Last'].str.replace('JR',',JR')\n",
    "combine['Last']=combine['Last'].str.replace('II',',II')\n",
    "combine['Last']=combine['Last'].str.replace('III',',III')\n",
    "combine['Last']=combine['Last'].str.replace('IV',',IV')\n",
    "\n",
    "#parse out the suffix from the last name\n",
    "combine[['LastNm','Suffix']]=college_career_df['Last'].str.split(\",\",n=1,expand=True)\n",
    "\n",
    "#Write to CSV file\n",
    "# combine.to_csv('combine.csv')"
   ]
  }
 ],
 "metadata": {
  "kernelspec": {
   "display_name": "Python 3",
   "language": "python",
   "name": "python3"
  },
  "language_info": {
   "codemirror_mode": {
    "name": "ipython",
    "version": 3
   },
   "file_extension": ".py",
   "mimetype": "text/x-python",
   "name": "python",
   "nbconvert_exporter": "python",
   "pygments_lexer": "ipython3",
   "version": "3.7.6"
  },
  "varInspector": {
   "cols": {
    "lenName": 16,
    "lenType": 16,
    "lenVar": 40
   },
   "kernels_config": {
    "python": {
     "delete_cmd_postfix": "",
     "delete_cmd_prefix": "del ",
     "library": "var_list.py",
     "varRefreshCmd": "print(var_dic_list())"
    },
    "r": {
     "delete_cmd_postfix": ") ",
     "delete_cmd_prefix": "rm(",
     "library": "var_list.r",
     "varRefreshCmd": "cat(var_dic_list()) "
    }
   },
   "types_to_exclude": [
    "module",
    "function",
    "builtin_function_or_method",
    "instance",
    "_Feature"
   ],
   "window_display": false
  }
 },
 "nbformat": 4,
 "nbformat_minor": 4
}
